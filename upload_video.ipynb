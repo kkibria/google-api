{
 "cells": [
  {
   "cell_type": "code",
   "execution_count": null,
   "metadata": {},
   "outputs": [],
   "source": [
    "#@markdown **Setup**\n",
    "\n",
    "import subprocess, time\n",
    "print(\"Setting up environment...\")\n",
    "start_time = time.time()\n",
    "process = ['pip', 'install', 'httplib2', 'google-api-python-client', 'google-auth', 'google-auth-oauthlib', 'google-auth-httplib2']\n",
    "running = subprocess.run(process,stdout=subprocess.PIPE).stdout.decode('utf-8')\n",
    "print(running)"
   ]
  },
  {
   "cell_type": "code",
   "execution_count": 3,
   "metadata": {},
   "outputs": [],
   "source": [
    "models_path = \"/content/models\" #@param {type:\"string\"}\n",
    "output_path = \"/content/output\" #@param {type:\"string\"}\n"
   ]
  }
 ],
 "metadata": {
  "kernelspec": {
   "display_name": ".venv",
   "language": "python",
   "name": "python3"
  },
  "language_info": {
   "codemirror_mode": {
    "name": "ipython",
    "version": 3
   },
   "file_extension": ".py",
   "mimetype": "text/x-python",
   "name": "python",
   "nbconvert_exporter": "python",
   "pygments_lexer": "ipython3",
   "version": "3.10.2"
  },
  "orig_nbformat": 4,
  "vscode": {
   "interpreter": {
    "hash": "b9c37104ef3ce1f6cd53447c3c5e4ee14206e556b5ec7e585682b6d86ea45222"
   }
  }
 },
 "nbformat": 4,
 "nbformat_minor": 2
}
